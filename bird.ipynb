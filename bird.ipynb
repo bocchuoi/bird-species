{
 "cells": [
  {
   "cell_type": "code",
   "execution_count": 1,
   "metadata": {},
   "outputs": [],
   "source": [
    "\n",
    "from tensorflow.keras.utils import image_dataset_from_directory\n",
    "from tensorflow import keras\n",
    "from tensorflow.keras import layers\n",
    "import tensorflow as tf\n",
    "import matplotlib.pyplot as plt\n"
   ]
  },
  {
   "cell_type": "code",
   "execution_count": 2,
   "metadata": {},
   "outputs": [],
   "source": [
    "baseDir = 'E:/School/Winter 2023/Data Science 2/assignments/archive/'\n",
    "trainDir = baseDir + 'train'\n",
    "valDir = baseDir + 'valid'\n",
    "testDir = baseDir + 'test'"
   ]
  },
  {
   "cell_type": "code",
   "execution_count": 3,
   "metadata": {},
   "outputs": [],
   "source": [
    "batchSize = 32\n",
    "height = 224\n",
    "width = 224\n",
    "classes = 515\n"
   ]
  },
  {
   "cell_type": "code",
   "execution_count": 4,
   "metadata": {},
   "outputs": [
    {
     "name": "stdout",
     "output_type": "stream",
     "text": [
      "Found 82724 files belonging to 515 classes.\n",
      "Found 2575 files belonging to 515 classes.\n",
      "Found 2575 files belonging to 515 classes.\n"
     ]
    }
   ],
   "source": [
    "train_dataset = image_dataset_from_directory(\n",
    "    trainDir,\n",
    "    labels = 'inferred',\n",
    "    label_mode='categorical',\n",
    "    image_size=(height, width),\n",
    "    batch_size=batchSize,\n",
    ")\n",
    "test_dataset = image_dataset_from_directory(\n",
    "    testDir,\n",
    "    labels = 'inferred',\n",
    "    label_mode='categorical',\n",
    "    image_size=(height, width),\n",
    "    batch_size=batchSize,\n",
    ")\n",
    "val_dataset = image_dataset_from_directory(\n",
    "    valDir,\n",
    "    labels = 'inferred',\n",
    "    label_mode='categorical',\n",
    "    image_size=(height, width),\n",
    "    batch_size=batchSize,\n",
    ")\n",
    "AUTOTUNE = tf.data.AUTOTUNE\n",
    "train_dataset = train_dataset.prefetch(buffer_size=AUTOTUNE)\n",
    "val_dataset = val_dataset.prefetch(buffer_size=AUTOTUNE)\n",
    "test_dataset = test_dataset.prefetch(tf.data.AUTOTUNE)"
   ]
  },
  {
   "cell_type": "code",
   "execution_count": 5,
   "metadata": {},
   "outputs": [],
   "source": [
    "callbacks = [\n",
    "    keras.callbacks.ModelCheckpoint(\n",
    "    filepath=\"birds.keras\",\n",
    "    save_best_only=True,\n",
    "    monitor=\"val_loss\")\n",
    "]"
   ]
  },
  {
   "cell_type": "code",
   "execution_count": 6,
   "metadata": {},
   "outputs": [],
   "source": [
    "data_augmentation = keras.Sequential(\n",
    "    [\n",
    "        layers.RandomFlip(\"horizontal\"),\n",
    "        # layers.RandomRotation(0.1),\n",
    "        # layers.RandomZoom(0.2),\n",
    "    ]\n",
    ")"
   ]
  },
  {
   "cell_type": "code",
   "execution_count": 35,
   "metadata": {},
   "outputs": [],
   "source": [
    "conv_base = tf.keras.applications.inception_v3.InceptionV3(weights='imagenet', include_top=False, input_shape=(height, width, 3))\n",
    "conv_base.trainable = False"
   ]
  },
  {
   "cell_type": "code",
   "execution_count": 38,
   "metadata": {},
   "outputs": [],
   "source": [
    "# conv_base = keras.applications.vgg16.VGG16(weights=\"imagenet\", include_top=False, input_shape=(height, width, 3))\n",
    "# conv_base.trainable = True\n",
    "# for layer in conv_base.layers[:-4]:\n",
    "#     layer.trainable = False"
   ]
  },
  {
   "cell_type": "code",
   "execution_count": null,
   "metadata": {},
   "outputs": [],
   "source": [
    "conv_base.summary()"
   ]
  },
  {
   "cell_type": "code",
   "execution_count": 43,
   "metadata": {},
   "outputs": [],
   "source": [
    "model = keras.Sequential([\n",
    "    layers.InputLayer(input_shape=(height, width, 3)),\n",
    "    data_augmentation,\n",
    "    tf.keras.layers.Lambda(keras.applications.inception_v3.preprocess_input, input_shape=(height, width, 3)),\n",
    "    conv_base,\n",
    "    layers.Flatten(),\n",
    "    layers.Dropout(0.5),\n",
    "    layers.Dense(1024, activation=\"relu\"),\n",
    "    layers.Dense(classes, activation=\"softmax\")\n",
    "])\n",
    "model.compile(loss=\"categorical_crossentropy\",\n",
    "# optimizer=\"rmsprop\",\n",
    "optimizer=keras.optimizers.RMSprop(learning_rate=1e-5),\n",
    "metrics=[\"accuracy\"])"
   ]
  },
  {
   "cell_type": "code",
   "execution_count": 41,
   "metadata": {},
   "outputs": [
    {
     "name": "stdout",
     "output_type": "stream",
     "text": [
      "Model: \"sequential_9\"\n",
      "_________________________________________________________________\n",
      " Layer (type)                Output Shape              Param #   \n",
      "=================================================================\n",
      " sequential (Sequential)     (None, 224, 224, 3)       0         \n",
      "                                                                 \n",
      " lambda_8 (Lambda)           (None, 224, 224, 3)       0         \n",
      "                                                                 \n",
      " inception_v3 (Functional)   (None, 5, 5, 2048)        21802784  \n",
      "                                                                 \n",
      " flatten_8 (Flatten)         (None, 51200)             0         \n",
      "                                                                 \n",
      " dropout_8 (Dropout)         (None, 51200)             0         \n",
      "                                                                 \n",
      " dense_13 (Dense)            (None, 1024)              52429824  \n",
      "                                                                 \n",
      " dense_14 (Dense)            (None, 515)               527875    \n",
      "                                                                 \n",
      "=================================================================\n",
      "Total params: 74,760,483\n",
      "Trainable params: 52,957,699\n",
      "Non-trainable params: 21,802,784\n",
      "_________________________________________________________________\n"
     ]
    }
   ],
   "source": [
    "\n",
    "model.summary()"
   ]
  },
  {
   "cell_type": "code",
   "execution_count": 44,
   "metadata": {},
   "outputs": [
    {
     "name": "stdout",
     "output_type": "stream",
     "text": [
      "Epoch 1/30\n",
      "2586/2586 [==============================] - 448s 171ms/step - loss: 3.3098 - accuracy: 0.3326 - val_loss: 1.1651 - val_accuracy: 0.7045\n",
      "Epoch 2/30\n",
      "2586/2586 [==============================] - 442s 171ms/step - loss: 1.4386 - accuracy: 0.6428 - val_loss: 0.7314 - val_accuracy: 0.8070\n",
      "Epoch 3/30\n",
      "2586/2586 [==============================] - 445s 172ms/step - loss: 1.0174 - accuracy: 0.7392 - val_loss: 0.5696 - val_accuracy: 0.8404\n",
      "Epoch 4/30\n",
      "2586/2586 [==============================] - 442s 171ms/step - loss: 0.7862 - accuracy: 0.7937 - val_loss: 0.5046 - val_accuracy: 0.8586\n",
      "Epoch 5/30\n",
      "2586/2586 [==============================] - 440s 170ms/step - loss: 0.6445 - accuracy: 0.8266 - val_loss: 0.4746 - val_accuracy: 0.8645\n",
      "Epoch 6/30\n",
      "2586/2586 [==============================] - 412s 159ms/step - loss: 0.5323 - accuracy: 0.8554 - val_loss: 0.4355 - val_accuracy: 0.8816\n",
      "Epoch 7/30\n",
      "2586/2586 [==============================] - 389s 150ms/step - loss: 0.4437 - accuracy: 0.8780 - val_loss: 0.4079 - val_accuracy: 0.8893\n",
      "Epoch 8/30\n",
      "2586/2586 [==============================] - 384s 148ms/step - loss: 0.3761 - accuracy: 0.8958 - val_loss: 0.3947 - val_accuracy: 0.8870\n",
      "Epoch 9/30\n",
      "2586/2586 [==============================] - 362s 140ms/step - loss: 0.3231 - accuracy: 0.9086 - val_loss: 0.4002 - val_accuracy: 0.8909\n",
      "Epoch 10/30\n",
      "2586/2586 [==============================] - 394s 152ms/step - loss: 0.2842 - accuracy: 0.9193 - val_loss: 0.3815 - val_accuracy: 0.8986\n",
      "Epoch 11/30\n",
      "2586/2586 [==============================] - 421s 163ms/step - loss: 0.2434 - accuracy: 0.9304 - val_loss: 0.3890 - val_accuracy: 0.8975\n",
      "Epoch 12/30\n",
      "2586/2586 [==============================] - 403s 156ms/step - loss: 0.2134 - accuracy: 0.9386 - val_loss: 0.3668 - val_accuracy: 0.9025\n",
      "Epoch 13/30\n",
      "2586/2586 [==============================] - 431s 167ms/step - loss: 0.1870 - accuracy: 0.9462 - val_loss: 0.3649 - val_accuracy: 0.9029\n",
      "Epoch 14/30\n",
      "2586/2586 [==============================] - 399s 154ms/step - loss: 0.1630 - accuracy: 0.9530 - val_loss: 0.3822 - val_accuracy: 0.8920\n",
      "Epoch 15/30\n",
      "2586/2586 [==============================] - 435s 168ms/step - loss: 0.1444 - accuracy: 0.9581 - val_loss: 0.3569 - val_accuracy: 0.9014\n",
      "Epoch 16/30\n",
      "2586/2586 [==============================] - 410s 159ms/step - loss: 0.1301 - accuracy: 0.9614 - val_loss: 0.3638 - val_accuracy: 0.9041\n",
      "Epoch 17/30\n",
      "2586/2586 [==============================] - 430s 166ms/step - loss: 0.1140 - accuracy: 0.9671 - val_loss: 0.3575 - val_accuracy: 0.9045\n",
      "Epoch 18/30\n",
      "2586/2586 [==============================] - 432s 167ms/step - loss: 0.1013 - accuracy: 0.9706 - val_loss: 0.3647 - val_accuracy: 0.9083\n",
      "Epoch 19/30\n",
      "2586/2586 [==============================] - 427s 165ms/step - loss: 0.0906 - accuracy: 0.9741 - val_loss: 0.3422 - val_accuracy: 0.9126\n",
      "Epoch 20/30\n",
      "2586/2586 [==============================] - 436s 168ms/step - loss: 0.0821 - accuracy: 0.9755 - val_loss: 0.3541 - val_accuracy: 0.9080\n",
      "Epoch 21/30\n",
      "2586/2586 [==============================] - 436s 169ms/step - loss: 0.0743 - accuracy: 0.9786 - val_loss: 0.3912 - val_accuracy: 0.9060\n",
      "Epoch 22/30\n",
      "2586/2586 [==============================] - 438s 169ms/step - loss: 0.0680 - accuracy: 0.9800 - val_loss: 0.3581 - val_accuracy: 0.9118\n",
      "Epoch 23/30\n",
      "2586/2586 [==============================] - 437s 169ms/step - loss: 0.0608 - accuracy: 0.9826 - val_loss: 0.3540 - val_accuracy: 0.9130\n",
      "Epoch 24/30\n",
      "2586/2586 [==============================] - 437s 169ms/step - loss: 0.0554 - accuracy: 0.9835 - val_loss: 0.3634 - val_accuracy: 0.9118\n",
      "Epoch 25/30\n",
      "2586/2586 [==============================] - 436s 169ms/step - loss: 0.0516 - accuracy: 0.9849 - val_loss: 0.3761 - val_accuracy: 0.9103\n",
      "Epoch 26/30\n",
      "2586/2586 [==============================] - 437s 169ms/step - loss: 0.0467 - accuracy: 0.9865 - val_loss: 0.3699 - val_accuracy: 0.9111\n",
      "Epoch 27/30\n",
      "2586/2586 [==============================] - 436s 169ms/step - loss: 0.0425 - accuracy: 0.9877 - val_loss: 0.3671 - val_accuracy: 0.9188\n",
      "Epoch 28/30\n",
      "2586/2586 [==============================] - 437s 169ms/step - loss: 0.0392 - accuracy: 0.9891 - val_loss: 0.3653 - val_accuracy: 0.9045\n",
      "Epoch 29/30\n",
      "2586/2586 [==============================] - 436s 168ms/step - loss: 0.0368 - accuracy: 0.9894 - val_loss: 0.3650 - val_accuracy: 0.9111\n",
      "Epoch 30/30\n",
      "2586/2586 [==============================] - 433s 167ms/step - loss: 0.0329 - accuracy: 0.9909 - val_loss: 0.3690 - val_accuracy: 0.9126\n"
     ]
    }
   ],
   "source": [
    "history = model.fit(\n",
    "train_dataset,\n",
    "epochs=30,\n",
    "validation_data=val_dataset,\n",
    "callbacks=callbacks)"
   ]
  },
  {
   "cell_type": "code",
   "execution_count": 30,
   "metadata": {},
   "outputs": [],
   "source": [
    "model = keras.models.load_model(\"birds.keras\")"
   ]
  },
  {
   "cell_type": "code",
   "execution_count": 45,
   "metadata": {},
   "outputs": [
    {
     "data": {
      "image/png": "[encoded data removed]",
      "text/plain": [
       "<Figure size 640x480 with 1 Axes>"
      ]
     },
     "metadata": {},
     "output_type": "display_data"
    },
    {
     "data": {
      "image/png": "[encoded data removed]",
      "text/plain": [
       "<Figure size 640x480 with 1 Axes>"
      ]
     },
     "metadata": {},
     "output_type": "display_data"
    }
   ],
   "source": [
    "accuracy = history.history[\"accuracy\"]\n",
    "val_accuracy = history.history[\"val_accuracy\"]\n",
    "loss = history.history[\"loss\"]\n",
    "val_loss = history.history[\"val_loss\"]\n",
    "epochs = range(1, len(accuracy) + 1)\n",
    "plt.plot(epochs, accuracy, \"bo\", label=\"Training accuracy\")\n",
    "plt.plot(epochs, val_accuracy, \"b\", label=\"Validation accuracy\")\n",
    "plt.title(\"Training and validation accuracy\")\n",
    "plt.legend()\n",
    "plt.figure()\n",
    "plt.plot(epochs, loss, \"bo\", label=\"Training loss\")\n",
    "plt.plot(epochs, val_loss, \"b\", label=\"Validation loss\")\n",
    "plt.title(\"Training and validation loss\")\n",
    "plt.legend()\n",
    "plt.show()"
   ]
  },
  {
   "cell_type": "code",
   "execution_count": 46,
   "metadata": {},
   "outputs": [
    {
     "name": "stdout",
     "output_type": "stream",
     "text": [
      "81/81 [==============================] - 11s 134ms/step - loss: 0.2847 - accuracy: 0.9336\n",
      "Test accuracy: 0.934\n"
     ]
    }
   ],
   "source": [
    "test_loss, test_acc = model.evaluate(test_dataset)\n",
    "print(f\"Test accuracy: {test_acc:.3f}\")"
   ]
  }
 ],
 "metadata": {
  "kernelspec": {
   "display_name": "Python 3",
   "language": "python",
   "name": "python3"
  },
  "language_info": {
   "codemirror_mode": {
    "name": "ipython",
    "version": 3
   },
   "file_extension": ".py",
   "mimetype": "text/x-python",
   "name": "python",
   "nbconvert_exporter": "python",
   "pygments_lexer": "ipython3",
   "version": "3.8.16"
  },
  "orig_nbformat": 4
 },
 "nbformat": 4,
 "nbformat_minor": 2
}
